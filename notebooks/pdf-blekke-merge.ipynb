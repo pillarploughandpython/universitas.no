{
 "cells": [
  {
   "cell_type": "code",
   "execution_count": 1,
   "metadata": {
    "collapsed": false
   },
   "outputs": [],
   "source": [
    "from io import BytesIO\n",
    "\n",
    "from IPython.core import display\n",
    "from PIL import Image\n",
    "\n",
    "# Installed apps\n",
    "from PyPDF2 import PdfFileReader\n",
    "from sorl.thumbnail import ImageField\n",
    "from wand.image import Image as WandImage\n",
    "from wand.color import Color\n",
    "import os.path\n",
    "# Project apps\n",
    "\n",
    "def display_pil_image(im):\n",
    "   \"\"\"Displayhook function for PIL Images, rendered as PNG.\"\"\"\n",
    "\n",
    "   b = BytesIO()\n",
    "   im.save(b, format='png')\n",
    "   data = b.getvalue()\n",
    "   ip_img = display.Image(data=data, format='png', embed=True)\n",
    "   return ip_img._repr_png_()\n",
    "\n",
    "\n",
    "# register display func with PNG formatter:\n",
    "png_formatter = get_ipython().display_formatter.formatters['image/png']\n",
    "dpi = png_formatter.for_type(Image.Image, display_pil_image)"
   ]
  },
  {
   "cell_type": "code",
   "execution_count": 2,
   "metadata": {
    "collapsed": false
   },
   "outputs": [],
   "source": [
    "import os\n",
    "from glob import glob\n",
    "from datetime import datetime\n",
    "from django.conf import settings\n",
    "from django.core.files.base import ContentFile\n",
    "from apps.issues.models import PrintIssue, current_issue\n",
    "\n",
    "PDF_STAGING = os.path.join(settings.STAGING_ROOT, 'STAGING', 'PDF')\n",
    "PDF_FOLDER = os.path.join(settings.STAGING_ROOT, 'pdf')\n",
    "FILENAME_PATTERN = 'universitas_{issue.date.year}-{issue.number}{suffix}.pdf'\n",
    "\n",
    "def get_staging_pdf_files(magazine='1'):\n",
    "    globpattern = '{folder}/UNI1{version}VER*.pdf'.format(\n",
    "        folder=PDF_STAGING,\n",
    "        version=magazine,\n",
    "    )\n",
    "    all_files = glob(globpattern)\n",
    "    new_files = []\n",
    "    for pdf_file in all_files:\n",
    "        age = datetime.now() - \\\n",
    "            datetime.fromtimestamp(os.path.getctime(pdf_file))\n",
    "        if age.days > 4:\n",
    "            os.remove(pdf_file)\n",
    "        else:\n",
    "            new_files.append(pdf_file)\n",
    "    return sorted(new_files)\n",
    "\n",
    "pdf_files = get_staging_pdf_files()"
   ]
  },
  {
   "cell_type": "code",
   "execution_count": 3,
   "metadata": {
    "collapsed": false
   },
   "outputs": [
    {
     "name": "stdout",
     "output_type": "stream",
     "text": [
      "['/tmp/user/1000/23f698ea5ec420f67c91ba905f49e1b6efeda3143aa8ab9a37a65f381d2bf11e.UNI11VER16090901000.pdf', '/tmp/user/1000/4f8d3cdc793fb0a6616398b03f73e1c67ad9deaeed194aec1a2d265f54a50f9b.UNI11VER16090902000.pdf', '/tmp/user/1000/01933492a0b894fcdc52580cbb8ff6c93241bbd96f78af91e6fc5ee24514624e.UNI11VER16090903000.pdf', '/tmp/user/1000/8da94816bb6dc4c080ed9777e1eae8e2991b1b782b0a6a851c406c2cd57a4c93.UNI11VER16090904000.pdf', '/tmp/user/1000/2eb3bf624c8b904fae30833a6d93bfbf06fd03c7e53f63897d89e6f2c97a358e.UNI11VER16090905000.pdf', '/tmp/user/1000/ae085b6f9b7d2272736fba836c40f0eb06282dd378df4fe389d68a38b3575315.UNI11VER16090906000.pdf', '/tmp/user/1000/5b2cbca8dc0c2cce697531b6a8f1bfc8d68fd2a1635f3320675eaf86ba98dcd7.UNI11VER16090907000.pdf', '/tmp/user/1000/c1f92132cae1aa59b1cefd8cbb92edaa4cad1d5ef0ac0d568c34c44dfa96bb1e.UNI11VER16090908000.pdf', '/tmp/user/1000/22b84f0af0b0fbcb73e2789b126c7b9a3182da7b2f77b4967b185a4e7c76601c.UNI11VER16090909000.pdf', '/tmp/user/1000/eba183ffd2d90b7b33db7a4e76a1952946db03d558d5b21f987e12f079b9e82b.UNI11VER16090910000.pdf', '/tmp/user/1000/1eb02ce6b378f7f7c32541569f41659aeca191bcb1ea9fe1c925fb71f680948d.UNI11VER16090911000.pdf', '/tmp/user/1000/4de84d191a71269fdd0d8db375859ba13ca4bfda70577a5c4a627793d0292ca7.UNI11VER16090912000.pdf', '/tmp/user/1000/5a9b1da392cf804b694042f65e4b84f98001c725bf430a9a4d4e69bf60f54714.UNI11VER16090913000.pdf', '/tmp/user/1000/aae2432e9bb4bb724808b0ef1d4a6f6f93015d9417b8c4a72c3979e8ed40f083.UNI11VER16090914000.pdf', '/tmp/user/1000/e5b460ce3635b01cdaad261ac006c726e6348bc9461d7b0cb276c392747d8ea0.UNI11VER16090915000.pdf', '/tmp/user/1000/0305aa2f226bd60654e1f126ac62efa9a1df007e163bc64bf16ad1c4b06954a5.UNI11VER16090916000.pdf', '/tmp/user/1000/36b9a6fdc5b2d88335d5136889e7a64d7eee620d145739977b151aec3f26b355.UNI11VER16090917000.pdf', '/tmp/user/1000/a0d3e25ec1e27ce52f5d607569ad38bce410b387ce2871f636226950b503b1e8.UNI11VER16090918000.pdf', '/tmp/user/1000/b98d0afab39e1c326f50525e6479ea1e733c790ac509519593f976c6d3c1a2bc.UNI11VER16090919000.pdf', '/tmp/user/1000/77a873f9ff86c4ac2fe1d607d03a0aa69e347e5f08e02fac9e9ebe1659c1d987.UNI11VER16090920000.pdf', '/tmp/user/1000/f2c069e620964b0fa16dbbf56766393cb91ff774aacb21e6f8618d8ba9787e98.UNI11VER16090921000.pdf', '/tmp/user/1000/8880e7979bad0544675601ad684837e75a784e467a12f06e5e57bdf6295dd34f.UNI11VER16090922000.pdf', '/tmp/user/1000/2d0912be28b88a964ec90325009d9e143203fe1923da370dc3cff1f9e83fb306.UNI11VER16090923000.pdf', '/tmp/user/1000/7b4a5d619763dd9778460a7e3412a12922a4e6587a1e0fde33c899df184ac3d6.UNI11VER16090924000.pdf']\n"
     ]
    }
   ],
   "source": [
    "import subprocess\n",
    "import os\n",
    "import hashlib\n",
    "import tempfile\n",
    "\n",
    "def hash_file(filepath, blocksize=65536):\n",
    "    \"\"\"Hexadecimal sha256 hash of a file stored on local disk\"\"\"\n",
    "    hasher = hashlib.sha256()\n",
    "    with open(filepath, 'rb') as source:\n",
    "        buf = source.read(blocksize)\n",
    "        while len(buf) > 0:\n",
    "            hasher.update(buf)\n",
    "            buf = source.read(blocksize)\n",
    "    return hasher.hexdigest()\n",
    "\n",
    "\n",
    "def tmp_file(filepath):\n",
    "    tmp_dir = tempfile.gettempdir()\n",
    "    filename = os.path.join(\n",
    "        tmp_dir, \n",
    "        hash_file(filepath) + '.' +\n",
    "        os.path.basename(filepath),\n",
    "    )\n",
    "    return filename\n",
    "\n",
    "def optimize_page(input_file):\n",
    "    \"\"\"Compress images and convert to rgb\"\"\"\n",
    "    output_file = tmp_file(input_file)\n",
    "    binary = '/usr/bin/gs'\n",
    "    args = [\n",
    "        binary,\n",
    "        '-dColorConversionStrategy=/sRGB',\n",
    "        '-dColorConversionStrategyForImages=/sRGB',\n",
    "        '-dBATCH',\n",
    "        '-dNOPAUSE',\n",
    "        '-sDEVICE=pdfwrite',\n",
    "        '-dConvertCMYKImagesToRGB=true',\n",
    "        '-dDownsampleColorImages=true',\n",
    "        '-dDownsampleGrayImages=true',\n",
    "        '-dDownsampleMonoImages=true',\n",
    "        '-dColorImageResolution=120',\n",
    "        '-dGrayImageResolution=120',\n",
    "        '-dMonoImageResolution=120',\n",
    "        '-o', output_file,\n",
    "        input_file,\n",
    "    ]\n",
    "    if not os.path.exists(output_file):\n",
    "        subprocess.run(args)\n",
    "    return output_file\n",
    "\n",
    "pages = [optimize_page(pdf) for pdf in pdf_files]\n",
    "print(pages) "
   ]
  },
  {
   "cell_type": "code",
   "execution_count": 4,
   "metadata": {
    "collapsed": false
   },
   "outputs": [
    {
     "name": "stdout",
     "output_type": "stream",
     "text": [
      "./img/23f698ea5ec420f67c91ba905f49e1b6efeda3143aa8ab9a37a65f381d2bf11e.UNI11VER16090901000.pdf.png\n",
      "./img/4f8d3cdc793fb0a6616398b03f73e1c67ad9deaeed194aec1a2d265f54a50f9b.UNI11VER16090902000.pdf.png\n",
      "./img/01933492a0b894fcdc52580cbb8ff6c93241bbd96f78af91e6fc5ee24514624e.UNI11VER16090903000.pdf.png\n",
      "./img/8da94816bb6dc4c080ed9777e1eae8e2991b1b782b0a6a851c406c2cd57a4c93.UNI11VER16090904000.pdf.png\n",
      "./img/2eb3bf624c8b904fae30833a6d93bfbf06fd03c7e53f63897d89e6f2c97a358e.UNI11VER16090905000.pdf.png\n",
      "./img/ae085b6f9b7d2272736fba836c40f0eb06282dd378df4fe389d68a38b3575315.UNI11VER16090906000.pdf.png\n",
      "./img/5b2cbca8dc0c2cce697531b6a8f1bfc8d68fd2a1635f3320675eaf86ba98dcd7.UNI11VER16090907000.pdf.png\n",
      "./img/c1f92132cae1aa59b1cefd8cbb92edaa4cad1d5ef0ac0d568c34c44dfa96bb1e.UNI11VER16090908000.pdf.png\n",
      "./img/22b84f0af0b0fbcb73e2789b126c7b9a3182da7b2f77b4967b185a4e7c76601c.UNI11VER16090909000.pdf.png\n",
      "./img/eba183ffd2d90b7b33db7a4e76a1952946db03d558d5b21f987e12f079b9e82b.UNI11VER16090910000.pdf.png\n",
      "./img/1eb02ce6b378f7f7c32541569f41659aeca191bcb1ea9fe1c925fb71f680948d.UNI11VER16090911000.pdf.png\n",
      "./img/4de84d191a71269fdd0d8db375859ba13ca4bfda70577a5c4a627793d0292ca7.UNI11VER16090912000.pdf.png\n",
      "./img/5a9b1da392cf804b694042f65e4b84f98001c725bf430a9a4d4e69bf60f54714.UNI11VER16090913000.pdf.png\n",
      "./img/aae2432e9bb4bb724808b0ef1d4a6f6f93015d9417b8c4a72c3979e8ed40f083.UNI11VER16090914000.pdf.png\n",
      "./img/e5b460ce3635b01cdaad261ac006c726e6348bc9461d7b0cb276c392747d8ea0.UNI11VER16090915000.pdf.png\n",
      "./img/0305aa2f226bd60654e1f126ac62efa9a1df007e163bc64bf16ad1c4b06954a5.UNI11VER16090916000.pdf.png\n",
      "./img/36b9a6fdc5b2d88335d5136889e7a64d7eee620d145739977b151aec3f26b355.UNI11VER16090917000.pdf.png\n",
      "./img/a0d3e25ec1e27ce52f5d607569ad38bce410b387ce2871f636226950b503b1e8.UNI11VER16090918000.pdf.png\n",
      "./img/b98d0afab39e1c326f50525e6479ea1e733c790ac509519593f976c6d3c1a2bc.UNI11VER16090919000.pdf.png\n",
      "./img/77a873f9ff86c4ac2fe1d607d03a0aa69e347e5f08e02fac9e9ebe1659c1d987.UNI11VER16090920000.pdf.png\n",
      "./img/f2c069e620964b0fa16dbbf56766393cb91ff774aacb21e6f8618d8ba9787e98.UNI11VER16090921000.pdf.png\n",
      "./img/8880e7979bad0544675601ad684837e75a784e467a12f06e5e57bdf6295dd34f.UNI11VER16090922000.pdf.png\n",
      "./img/2d0912be28b88a964ec90325009d9e143203fe1923da370dc3cff1f9e83fb306.UNI11VER16090923000.pdf.png\n",
      "./img/7b4a5d619763dd9778460a7e3412a12922a4e6587a1e0fde33c899df184ac3d6.UNI11VER16090924000.pdf.png\n"
     ]
    }
   ],
   "source": [
    "# from IPython.display import Image\n",
    "# from wand.exceptions import BlobError\n",
    "# from wand.drawing import Drawing\n",
    "from PyPDF2 import PdfFileWriter, PdfFileReader\n",
    "from io import BytesIO\n",
    "from wand.image import Image as WandImage\n",
    "# from wand.color import Color\n",
    "from PyPDF2 import PdfFileWriter, PdfFileReader\n",
    "\n",
    "def pdf_to_wandimage(pdf):\n",
    "    reader = PdfFileReader(pdf)\n",
    "    writer = PdfFileWriter()\n",
    "    writer.addPage(reader.getPage(0))\n",
    "    outputStream = BytesIO()\n",
    "    writer.write(outputStream)\n",
    "    outputStream.seek(0)\n",
    "    img = WandImage(blob=outputStream, format='pdf', resolution=50)\n",
    "    return img\n",
    "\n",
    "def pdf_to_png(pdf_page):\n",
    "    folder = './img'\n",
    "    os.makedirs(folder, exist_ok=True)\n",
    "    filename = os.path.join(\n",
    "        folder, os.path.basename(pdf_page) + '.png')\n",
    "    print(filename)\n",
    "    if not os.path.exists(filename):\n",
    "        img = pdf_to_wandimage(pdf_page)\n",
    "        img.save(filename=filename)\n",
    "    return filename\n",
    "    \n",
    "images = [pdf_to_png(pdf) for pdf in pages]"
   ]
  },
  {
   "cell_type": "code",
   "execution_count": 5,
   "metadata": {
    "collapsed": false,
    "scrolled": false
   },
   "outputs": [
    {
     "data": {
      "text/html": [
       "<img src=./img/23f698ea5ec420f67c91ba905f49e1b6efeda3143aa8ab9a37a65f381d2bf11e.UNI11VER16090901000.pdf.png style=\"display: inline-block; width: 20%;\" />\n",
       "<img src=./img/4f8d3cdc793fb0a6616398b03f73e1c67ad9deaeed194aec1a2d265f54a50f9b.UNI11VER16090902000.pdf.png style=\"display: inline-block; width: 20%;\" />\n",
       "<img src=./img/01933492a0b894fcdc52580cbb8ff6c93241bbd96f78af91e6fc5ee24514624e.UNI11VER16090903000.pdf.png style=\"display: inline-block; width: 20%;\" />\n",
       "<img src=./img/8da94816bb6dc4c080ed9777e1eae8e2991b1b782b0a6a851c406c2cd57a4c93.UNI11VER16090904000.pdf.png style=\"display: inline-block; width: 20%;\" />\n",
       "<img src=./img/2eb3bf624c8b904fae30833a6d93bfbf06fd03c7e53f63897d89e6f2c97a358e.UNI11VER16090905000.pdf.png style=\"display: inline-block; width: 20%;\" />\n",
       "<img src=./img/ae085b6f9b7d2272736fba836c40f0eb06282dd378df4fe389d68a38b3575315.UNI11VER16090906000.pdf.png style=\"display: inline-block; width: 20%;\" />\n",
       "<img src=./img/5b2cbca8dc0c2cce697531b6a8f1bfc8d68fd2a1635f3320675eaf86ba98dcd7.UNI11VER16090907000.pdf.png style=\"display: inline-block; width: 20%;\" />\n",
       "<img src=./img/c1f92132cae1aa59b1cefd8cbb92edaa4cad1d5ef0ac0d568c34c44dfa96bb1e.UNI11VER16090908000.pdf.png style=\"display: inline-block; width: 20%;\" />\n",
       "<img src=./img/22b84f0af0b0fbcb73e2789b126c7b9a3182da7b2f77b4967b185a4e7c76601c.UNI11VER16090909000.pdf.png style=\"display: inline-block; width: 20%;\" />\n",
       "<img src=./img/eba183ffd2d90b7b33db7a4e76a1952946db03d558d5b21f987e12f079b9e82b.UNI11VER16090910000.pdf.png style=\"display: inline-block; width: 20%;\" />\n",
       "<img src=./img/1eb02ce6b378f7f7c32541569f41659aeca191bcb1ea9fe1c925fb71f680948d.UNI11VER16090911000.pdf.png style=\"display: inline-block; width: 20%;\" />\n",
       "<img src=./img/4de84d191a71269fdd0d8db375859ba13ca4bfda70577a5c4a627793d0292ca7.UNI11VER16090912000.pdf.png style=\"display: inline-block; width: 20%;\" />\n",
       "<img src=./img/5a9b1da392cf804b694042f65e4b84f98001c725bf430a9a4d4e69bf60f54714.UNI11VER16090913000.pdf.png style=\"display: inline-block; width: 20%;\" />\n",
       "<img src=./img/aae2432e9bb4bb724808b0ef1d4a6f6f93015d9417b8c4a72c3979e8ed40f083.UNI11VER16090914000.pdf.png style=\"display: inline-block; width: 20%;\" />\n",
       "<img src=./img/e5b460ce3635b01cdaad261ac006c726e6348bc9461d7b0cb276c392747d8ea0.UNI11VER16090915000.pdf.png style=\"display: inline-block; width: 20%;\" />\n",
       "<img src=./img/0305aa2f226bd60654e1f126ac62efa9a1df007e163bc64bf16ad1c4b06954a5.UNI11VER16090916000.pdf.png style=\"display: inline-block; width: 20%;\" />\n",
       "<img src=./img/36b9a6fdc5b2d88335d5136889e7a64d7eee620d145739977b151aec3f26b355.UNI11VER16090917000.pdf.png style=\"display: inline-block; width: 20%;\" />\n",
       "<img src=./img/a0d3e25ec1e27ce52f5d607569ad38bce410b387ce2871f636226950b503b1e8.UNI11VER16090918000.pdf.png style=\"display: inline-block; width: 20%;\" />\n",
       "<img src=./img/b98d0afab39e1c326f50525e6479ea1e733c790ac509519593f976c6d3c1a2bc.UNI11VER16090919000.pdf.png style=\"display: inline-block; width: 20%;\" />\n",
       "<img src=./img/77a873f9ff86c4ac2fe1d607d03a0aa69e347e5f08e02fac9e9ebe1659c1d987.UNI11VER16090920000.pdf.png style=\"display: inline-block; width: 20%;\" />\n",
       "<img src=./img/f2c069e620964b0fa16dbbf56766393cb91ff774aacb21e6f8618d8ba9787e98.UNI11VER16090921000.pdf.png style=\"display: inline-block; width: 20%;\" />\n",
       "<img src=./img/8880e7979bad0544675601ad684837e75a784e467a12f06e5e57bdf6295dd34f.UNI11VER16090922000.pdf.png style=\"display: inline-block; width: 20%;\" />\n",
       "<img src=./img/2d0912be28b88a964ec90325009d9e143203fe1923da370dc3cff1f9e83fb306.UNI11VER16090923000.pdf.png style=\"display: inline-block; width: 20%;\" />\n",
       "<img src=./img/7b4a5d619763dd9778460a7e3412a12922a4e6587a1e0fde33c899df184ac3d6.UNI11VER16090924000.pdf.png style=\"display: inline-block; width: 20%;\" />"
      ],
      "text/plain": [
       "<IPython.core.display.HTML object>"
      ]
     },
     "execution_count": 5,
     "metadata": {},
     "output_type": "execute_result"
    }
   ],
   "source": [
    "from IPython.display import HTML\n",
    "html = '\\n'.join('<img src={} style=\"display: inline-block; width: 20%;\" />'.format(fn) for fn in images)\n",
    "HTML(html)\n"
   ]
  },
  {
   "cell_type": "code",
   "execution_count": 6,
   "metadata": {
    "collapsed": false
   },
   "outputs": [
    {
     "name": "stdout",
     "output_type": "stream",
     "text": [
      "CompletedProcess(args=['/usr/bin/gs', '-dNOPAUSE', '-dBATCH', '-dCompressFonts=true', '-dSubsetFonts=true', '-dCompatibilityLevel=1.6', '-dDetectDuplicateImages=true', '-sDEVICE=pdfwrite', '-o', 'bundle2.pdf', 'bundle.pdf'], returncode=0)\n"
     ]
    }
   ],
   "source": [
    "from PyPDF2 import PdfFileMerger\n",
    "def merge_pages(pages, bundle_file='bundle.pdf'):\n",
    "    merger = PdfFileMerger()\n",
    "    merger.setPageLayout('/TwoPageRight')\n",
    "    for page in pages:\n",
    "        merger.append(page)\n",
    "    merger.write(bundle_file)\n",
    "    return bundle_file\n",
    "\n",
    "    \n",
    "def optimize_pdf(pdf):\n",
    "    \"\"\"Optimize file size for pdf\"\"\"\n",
    "    ghostscript = '/usr/bin/gs'\n",
    "    outfile = 'bundle2.pdf'\n",
    "    args = [\n",
    "        ghostscript,\n",
    "        '-dNOPAUSE',\n",
    "        '-dBATCH',\n",
    "        '-dCompressFonts=true',\n",
    "        '-dSubsetFonts=true',\n",
    "        '-dCompatibilityLevel=1.6',\n",
    "        '-dDetectDuplicateImages=true',\n",
    "        '-sDEVICE=pdfwrite',\n",
    "        '-o', outfile,\n",
    "        pdf,\n",
    "    ]\n",
    "    result = subprocess.run(args)\n",
    "    print(result)\n",
    "\n",
    "filename = merge_pages(pages)\n",
    "optimize_pdf(filename)"
   ]
  },
  {
   "cell_type": "code",
   "execution_count": 23,
   "metadata": {
    "collapsed": true
   },
   "outputs": [],
   "source": [
    "import PyPDF2\n"
   ]
  },
  {
   "cell_type": "code",
   "execution_count": null,
   "metadata": {
    "collapsed": true
   },
   "outputs": [],
   "source": []
  }
 ],
 "metadata": {
  "kernelspec": {
   "display_name": "Django Shell-Plus",
   "language": "python",
   "name": "django_extensions"
  },
  "language_info": {
   "codemirror_mode": {
    "name": "ipython",
    "version": 3
   },
   "file_extension": ".py",
   "mimetype": "text/x-python",
   "name": "python",
   "nbconvert_exporter": "python",
   "pygments_lexer": "ipython3",
   "version": "3.5.2"
  }
 },
 "nbformat": 4,
 "nbformat_minor": 0
}
