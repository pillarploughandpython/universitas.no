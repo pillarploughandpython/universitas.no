{
 "cells": [
  {
   "cell_type": "code",
   "execution_count": null,
   "metadata": {
    "collapsed": false
   },
   "outputs": [],
   "source": [
    "cc = Contributor.objects.annotate(bylines=Count('byline')).order_by('-bylines')\n",
    "names = cc.values_list('display_name', 'bylines')\n",
    "\n",
    "threshold = 85\n",
    "other_names = [name for name, bylines in names if bylines < 5 and len(name) > 8 ]\n",
    "for index, (name, bylines) in enumerate(names):\n",
    "    if bylines < 5: \n",
    "        break\n",
    "    #print (index, name, bylines)\n",
    "    duplicates = []\n",
    "    for other in other_names[:]:\n",
    "        if fuzz.partial_ratio(name, other) >= threshold:\n",
    "            other_names.remove(other)\n",
    "            if other != name:\n",
    "                duplicates.append(other)\n",
    "                # cnt = cc.filter(display_name=other)[0]\n",
    "                #print(cnt.legacy_data())\n",
    "            \n",
    "    if duplicates:\n",
    "        print(name, bylines, ':', '\\n      '.join(['']+duplicates))\n",
    "        print()\n",
    "\n",
    "        \n",
    "        "
   ]
  },
  {
   "cell_type": "code",
   "execution_count": null,
   "metadata": {
    "collapsed": false
   },
   "outputs": [],
   "source": [
    "cc = Contributor.objects.annotate(bylines=Count('byline')).order_by('-bylines')\n",
    "names = cc.values_list('display_name', 'bylines')\n",
    "for c in cc: print( c.bylines, c.display_name, c.aliases.replace('\\n', '; '),)"
   ]
  },
  {
   "cell_type": "code",
   "execution_count": null,
   "metadata": {
    "collapsed": false
   },
   "outputs": [],
   "source": [
    "from IPython.core import display\n",
    "import re\n",
    "import json\n",
    "from fuzzywuzzy import fuzz\n",
    "from django.db.models import Count"
   ]
  },
  {
   "cell_type": "code",
   "execution_count": null,
   "metadata": {
    "collapsed": true
   },
   "outputs": [],
   "source": [
    "initials = {\n",
    " 'AAAH': 'Anders Aa Hagen',\n",
    " 'AAH': 'Åse Holte',\n",
    " 'ABE': 'Åshild Bekke Eidem',\n",
    " 'AH': 'Audun Halaas',\n",
    " 'AHA': 'Aurora Hannisdal',\n",
    " 'AJ': 'Aslak Johannesen',\n",
    " 'AO': 'Anne Ogundipe',\n",
    " 'AOE': 'Amund K. Østbye',\n",
    " 'AS': 'Åshild Støylen',\n",
    " 'BO': 'Brian Olguin',\n",
    " 'CE': 'Christine Erlbeck',\n",
    " 'CK': 'Christine Karijord',\n",
    " 'CT': 'Camilla Tully',\n",
    " 'DC': 'Damir Cvetojevic',\n",
    " 'ED': 'Ellinor Bent Dalbye',\n",
    " 'EJ': 'Elisabeth Johansen',\n",
    " 'FA': 'Fredrik Arff',\n",
    " 'GKJ': 'Grethe Kielland-Jenssen',\n",
    " 'GON': 'Gunhild Oland Nedrelid',\n",
    " 'HFB': 'Harald Fagerheim Bugge',\n",
    " 'HH': 'Hanne O. Hvattum',\n",
    " 'HL': 'Håken Lid',\n",
    " 'HM': 'Håkon Mosvold',\n",
    " 'HR': 'Hilde Rustan',\n",
    " 'IK': 'Ivàn Kverme',\n",
    " 'IS': 'Ingjerd Sørlie',\n",
    " 'JH': 'Julie Hoen',\n",
    " 'KG': 'Kristine Gramstad',\n",
    " 'KK': 'Kamran Karimi',\n",
    " 'KMD': 'Kaj M. Duesund',\n",
    " 'KRN': 'Kristian Ridder-Nielsen',\n",
    " 'LF': 'Lise Falck',\n",
    " 'LRL': 'Liv Ronnaug Lilleåse',\n",
    " 'MF': 'Mia Frogner',\n",
    " 'MH': 'Mari Hagen',\n",
    " 'MLH': 'Mari Lund Haanshus',\n",
    " 'MNP': 'Marius Nergård Pettersen',\n",
    " 'NL': 'Niklas Lello',\n",
    " 'PAW': 'Paul Anthony Wilson',\n",
    " 'RE': 'Richard Eriksen',\n",
    " 'RRJ': 'Robin Røkke Johansen',\n",
    " 'SE': 'Silje Eide',\n",
    " 'SL': 'Stéphane Lelarge',\n",
    " 'SR': 'Silje Ramstad',\n",
    " 'SS': 'Susanne Stensland',\n",
    " 'STL': 'Sindre T. Lønnes',\n",
    " 'TCST': 'Tone Celine Sundseth Thorgrimsen',\n",
    "}"
   ]
  },
  {
   "cell_type": "code",
   "execution_count": null,
   "metadata": {
    "collapsed": false
   },
   "outputs": [],
   "source": [
    "def legacy_bylines(story):\n",
    "    \"\"\" Finds original byline for story.\"\"\"\n",
    "    web_source = story.legacy_html_source\n",
    "    prodsys_source = story.legacy_prodsys_source\n",
    "    bylines = []\n",
    "    if web_source:\n",
    "        bylines = json.loads(web_source)[0]['fields']['byline']\n",
    "    elif prodsys_source:\n",
    "        content = json.loads(prodsys_source)[0]['fields']['tekst']\n",
    "        bylines = '\\n'.join(line for line in content.splitlines() if line.startswith('@bl:'))\n",
    "    return bylines\n",
    "       \n",
    "\n",
    "def serialize_bylines(story):\n",
    "    bylines = []\n",
    "    for byline in story.byline_set.order_by('ordering', 'pk'):\n",
    "        bylines.append(\n",
    "            '{credit}: {name}{description}'.format(\n",
    "                credit=byline.credit,\n",
    "                name=byline.contributor.display_name,\n",
    "                description='' if not byline.title else ', %s' % byline.title,\n",
    "                ).replace('by: ', '')\n",
    "            )\n",
    "    return bylines\n",
    "                \n",
    "def fixed_bylines(story):\n",
    "    legacy_bl = legacy_bylines(story)\n",
    "    if '•' in legacy_bl:\n",
    "       return legacy_bl.split('•') \n",
    "    \n",
    "    if legacy_bl.upper()==legacy_bl: \n",
    "        # intialer\n",
    "        bylines = legacy_bl.split('/')        \n",
    "        fixed_bl = []\n",
    "        for bl in bylines:\n",
    "            try:\n",
    "                fixed_bl.append(initials[bl])\n",
    "            except KeyError:\n",
    "                candidates = Contributor.objects.filter(initials=bl.strip())\n",
    "                names = []\n",
    "                for candidate in candidates:\n",
    "                    if candidate.active_stints(story.publication_date):\n",
    "                        names.append(candidate.display_name)\n",
    "                if len(names) == 1:\n",
    "                    fixed_bl.append(names[0])\n",
    "                else:\n",
    "                    return []\n",
    "                    fixed_bl.append('%s (%d)' % (bl, len(names)))\n",
    "                    \n",
    "        return fixed_bl\n",
    "    \n",
    "    if story.bylines.count() > 1:\n",
    "        return serialize_bylines(story)\n",
    "                \n",
    "    return legacy_bylines(story).splitlines() \n",
    "                \n",
    "            \n",
    "    \n",
    "bl = 'Solveig N. Langvad Helle Gannestad'\n",
    "cnt = Contributor.objects.get(display_name=bl)\n",
    "\n",
    "print(serialize_bylines(cnt))"
   ]
  },
  {
   "cell_type": "code",
   "execution_count": null,
   "metadata": {
    "collapsed": true
   },
   "outputs": [],
   "source": []
  },
  {
   "cell_type": "code",
   "execution_count": null,
   "metadata": {
    "collapsed": false
   },
   "outputs": [],
   "source": [
    "broken_stories = Story.objects.filter(publication_status=Story.STATUS_ERROR)\n",
    "broken_dict = {}\n",
    "from collections import OrderedDict\n",
    "for story in broken_stories:\n",
    "    #print(story)\n",
    "    #print(serialize_bylines(story))\n",
    "    #print(legacy_bylines(story))\n",
    "    \n",
    "    broken_dict[story.pk] =  OrderedDict([\n",
    "        ('title', story.title,),\n",
    "        ('broken_bl', serialize_bylines(story),),\n",
    "        ('old_bl', legacy_bylines(story)),\n",
    "        ('fixed_bl', fixed_bylines(story),),\n",
    "    ]) \n",
    "\n",
    "print(broken_dict)"
   ]
  },
  {
   "cell_type": "code",
   "execution_count": null,
   "metadata": {
    "collapsed": false
   },
   "outputs": [],
   "source": [
    "#with open('broken_stories.json', 'w') as fp:\n",
    "#    json.dump(broken_dict, fp, indent=2, ensure_ascii=False)"
   ]
  },
  {
   "cell_type": "code",
   "execution_count": null,
   "metadata": {
    "collapsed": false
   },
   "outputs": [],
   "source": [
    "with open('broken_stories.json', 'r') as fp:\n",
    "    broken = json.load(fp)"
   ]
  },
  {
   "cell_type": "code",
   "execution_count": null,
   "metadata": {
    "collapsed": false,
    "scrolled": false
   },
   "outputs": [],
   "source": [
    "broken = broken_dict\n",
    "for key in sorted(broken.keys(), key=int):\n",
    "    story = Story.objects.get(pk=int(key))\n",
    "    fixed_bl = broken[key]['fixed_bl']\n",
    "    if fixed_bl:\n",
    "        story.byline_set.all().delete()\n",
    "        new_bylines = '\\n'.join('@bl:%s'%byline for byline in fixed_bl if byline)\n",
    "        story.bodytext_markup += '\\n' + new_bylines\n",
    "        story.publication_status=Story.STATUS_PUBLISHED\n",
    "        story.full_clean()\n",
    "        story.save()\n",
    "        print(story.pk, fixed_bl, serialize_bylines(story), sep = '\\n  ')"
   ]
  },
  {
   "cell_type": "code",
   "execution_count": null,
   "metadata": {
    "collapsed": true
   },
   "outputs": [],
   "source": [
    "with open('broken_stories') as fp:\n",
    "    broken_pks = [int(pk) for pk in fp.readlines()]"
   ]
  },
  {
   "cell_type": "code",
   "execution_count": null,
   "metadata": {
    "collapsed": false,
    "scrolled": false
   },
   "outputs": [],
   "source": [
    "repaired_bylines = {}\n",
    "for pk in broken_pks:\n",
    "    story = Story.objects.get(pk=pk)\n",
    "    if story.publication_status != Story.STATUS_ERROR:\n",
    "        print(serialize_bylines(story))\n",
    "        repaired_bylines[pk] = serialize_bylines(story)"
   ]
  },
  {
   "cell_type": "code",
   "execution_count": null,
   "metadata": {
    "collapsed": true
   },
   "outputs": [],
   "source": [
    "with open('../repaired_bylines.json', 'w') as fp:\n",
    "    json.dump(repaired_bylines, fp, indent=2, ensure_ascii=False)"
   ]
  },
  {
   "cell_type": "code",
   "execution_count": null,
   "metadata": {
    "collapsed": false
   },
   "outputs": [],
   "source": [
    "Story.objects.published().filter(modified__gte='2015-12-01').dump_bylines()"
   ]
  },
  {
   "cell_type": "code",
   "execution_count": null,
   "metadata": {
    "collapsed": false,
    "scrolled": false
   },
   "outputs": [],
   "source": [
    "Story.objects.load_bylines('testdump.json')"
   ]
  },
  {
   "cell_type": "code",
   "execution_count": 1,
   "metadata": {
    "collapsed": false
   },
   "outputs": [],
   "source": [
    "from apps.stories.models import broken_bylines_in_story\n",
    "\n",
    "broken_stories = Story.objects.filter(publication_status=Story.STATUS_ERROR)"
   ]
  },
  {
   "cell_type": "code",
   "execution_count": 2,
   "metadata": {
    "collapsed": false
   },
   "outputs": [],
   "source": [
    "for story in broken_stories:\n",
    "    broken_bylines_in_story(story)\n",
    "    story.save()"
   ]
  },
  {
   "cell_type": "code",
   "execution_count": null,
   "metadata": {
    "collapsed": false
   },
   "outputs": [],
   "source": [
    "story.bodytext_markup"
   ]
  },
  {
   "cell_type": "code",
   "execution_count": null,
   "metadata": {
    "collapsed": true
   },
   "outputs": [],
   "source": [
    "def "
   ]
  }
 ],
 "metadata": {
  "kernelspec": {
   "display_name": "Django Shell-Plus",
   "language": "python",
   "name": "django_extensions"
  },
  "language_info": {
   "codemirror_mode": {
    "name": "ipython",
    "version": 3
   },
   "file_extension": ".py",
   "mimetype": "text/x-python",
   "name": "python",
   "nbconvert_exporter": "python",
   "pygments_lexer": "ipython3",
   "version": "3.4.3+"
  }
 },
 "nbformat": 4,
 "nbformat_minor": 0
}
